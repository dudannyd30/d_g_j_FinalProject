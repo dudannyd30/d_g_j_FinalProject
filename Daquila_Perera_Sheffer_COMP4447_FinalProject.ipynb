{
 "cells": [
  {
   "cell_type": "markdown",
   "id": "e988c0f4",
   "metadata": {},
   "source": [
    "# COMP 4447 Final Project\n",
    "#### D'Aquila, Daniel\n",
    "#### Perera, Janith\n",
    "#### Sheffer, Grant "
   ]
  },
  {
   "cell_type": "code",
   "execution_count": null,
   "id": "38b3ed33",
   "metadata": {},
   "outputs": [],
   "source": [
    "# importing for df\n",
    "import pandas as pd\n",
    "import numpy as np\n",
    "aviation_df = pd.read_csv('AviationData.csv', encoding=\"ISO-8859-1\")  # explain local grab\n",
    "aviation_df"
   ]
  },
  {
   "cell_type": "code",
   "execution_count": 2,
   "id": "52aae25b",
   "metadata": {},
   "outputs": [
    {
     "name": "stdout",
     "output_type": "stream",
     "text": [
      "Hello World\n",
      "Second test\n"
     ]
    }
   ],
   "source": [
    "print('Hello World')\n",
    "print('Second test')"
   ]
  },
  {
   "cell_type": "code",
   "execution_count": null,
   "id": "b24366c2",
   "metadata": {},
   "outputs": [],
   "source": []
  }
 ],
 "metadata": {
  "kernelspec": {
   "display_name": "Python 3 (ipykernel)",
   "language": "python",
   "name": "python3"
  },
  "language_info": {
   "codemirror_mode": {
    "name": "ipython",
    "version": 3
   },
   "file_extension": ".py",
   "mimetype": "text/x-python",
   "name": "python",
   "nbconvert_exporter": "python",
   "pygments_lexer": "ipython3",
   "version": "3.8.12"
  }
 },
 "nbformat": 4,
 "nbformat_minor": 5
}
